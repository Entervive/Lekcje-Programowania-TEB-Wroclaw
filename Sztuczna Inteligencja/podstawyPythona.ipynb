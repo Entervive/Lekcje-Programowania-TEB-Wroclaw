{
  "cells": [
    {
      "cell_type": "markdown",
      "metadata": {},
      "source": [
        "# Podstawy Programowania w Pythonie - Notatnik Jupyter\n",
        "\n",
        "Ten notatnik zawiera podstawowe zagadnienia programowania w Pythonie - od najprostszych do bardziej zaawansowanych. Służy jako pomoc w nadrobieniu zaległości z lekcji."
      ]
    },
    {
      "cell_type": "markdown",
      "metadata": {},
      "source": [
        "## Spis treści\n",
        "1. [Wprowadzenie do Pythona](#wprowadzenie)\n",
        "2. [Zmienne i operacje podstawowe](#zmienne)\n",
        "3. [Instrukcje warunkowe if/else](#instrukcje-warunkowe)\n",
        "4. [Pętle for i while](#petle)\n",
        "5. [Listy i operacje na listach](#listy)\n",
        "6. [Krotki](#krotki)\n",
        "7. [Słowniki](#slowniki)\n",
        "8. [Operacje na słownikach](#operacje-slowniki)\n",
        "9. [Funkcje](#funkcje)\n",
        "10. [Funkcje Sprawdzian](#funkcjeSprawdzian)\n",
        "11. [Wycinki list](#wycinki)\n",
        "12. [Praktyczne zadania](#zadania)\n",
        "13. [Zadanie zaawansowane - piramida](#piramida)"
      ]
    },
    {
      "cell_type": "markdown",
      "metadata": {},
      "source": [
        "<a id=\"wprowadzenie\"></a>\n",
        "## 1. Wprowadzenie do Pythona\n",
        "\n",
        "Python jest językiem prostym i czytelnym. Zacznijmy od klasycznego \"Hello World\"."
      ]
    },
    {
      "cell_type": "code",
      "execution_count": null,
      "metadata": {},
      "outputs": [],
      "source": [
        "# To jest komentarz - komputer go nie wykonuje\n",
        "print('Hello World')  # Wyświetla napis Hello World\n",
        "print(10)             # Wyświetla liczbę 10"
      ]
    },
    {
      "cell_type": "markdown",
      "metadata": {},
      "source": [
        "<a id=\"zmienne\"></a>\n",
        "## 2. Zmienne i operacje podstawowe\n",
        "\n",
        "Zmienne służą do przechowywania wartości. W Pythonie nie trzeba deklarować typu zmiennej."
      ]
    },
    {
      "cell_type": "code",
      "execution_count": null,
      "metadata": {},
      "outputs": [],
      "source": [
        "a = 12                       # Zmienna liczbowa\n",
        "print(a, \"<---- Wartość zmiennej a\")\n",
        "\n",
        "imie = 'Aleksander Staszków'  # Zmienna tekstowa (string)\n",
        "print(\"Cześć\", imie)\n",
        "print(f\"Cześć {imie}\")        # Formatowanie stringów za pomocą f-stringów\n",
        "\n",
        "b = a                        # Przypisanie wartości jednej zmiennej do drugiej\n",
        "a = \"Jakiś tekst\"            # Zmiana typu zmiennej\n",
        "print(a, b)                  # Wyświetlenie obu zmiennych\n",
        "\n",
        "# Operacje matematyczne\n",
        "c = 12\n",
        "d = 10\n",
        "e = c + d                    # Dodawanie\n",
        "print(e)"
      ]
    },
    {
      "cell_type": "markdown",
      "metadata": {},
      "source": [
        "### Wprowadzanie danych przez użytkownika\n",
        "\n",
        "Funkcja `input()` pozwala na pobieranie danych od użytkownika:"
      ]
    },
    {
      "cell_type": "code",
      "execution_count": null,
      "metadata": {},
      "outputs": [],
      "source": [
        "zmienna = input('Podaj swoje imię: ')\n",
        "print(f'Hej {zmienna}')\n",
        "\n",
        "#Konwersja danych wejściowych na liczby\n",
        "zmienna_dwa = int(input('Wpisz jakąś liczbę: '))  # int() konwertuje tekst na liczbę całkowitą\n",
        "print(zmienna_dwa * 5)\n",
        "\n",
        "temp = float(input('Podaj temperaturę w stopniach Celsjusza: '))  # float() konwertuje tekst na liczbę zmiennoprzecinkową\n",
        "print(f'Temperatura w Kelwinach: {temp + 273.15}')"
      ]
    },
    {
      "cell_type": "markdown",
      "metadata": {},
      "source": [
        "<a id=\"instrukcje-warunkowe\"></a>\n",
        "## 3. Instrukcje warunkowe if/else\n",
        "\n",
        "Instrukcje warunkowe pozwalają wykonywać różne operacje w zależności od spełnienia określonych warunków."
      ]
    },
    {
      "cell_type": "code",
      "execution_count": null,
      "metadata": {},
      "outputs": [],
      "source": [
        "# Wprowadzenie do funkcji\n",
        "def warunki():\n",
        "    # Definicja temperature w zmienej przecinkowej oraz wprowadzenie jej przez użytkownika\n",
        "    temp = float(input(\"Podaj temperaturę ciała: \"))\n",
        "\n",
        "    # Sprawdzenie temperatury ciała\n",
        "    # i wyświetlenie odpowiedniego komunikatu\n",
        "    if temp <= 36.6:\n",
        "        print(\"Masz prawidłową temperaturę ciała\")\n",
        "    elif temp > 36.6 and temp <= 37.5:\n",
        "        print(\"Masz stan podgorączkowy\")\n",
        "    elif temp > 37.5:\n",
        "        print(\"Masz gorączkę\")\n",
        "    else:\n",
        "        print(\"Zły warunek\")\n",
        "        \n",
        "# Wywołanie funkcji\n",
        "warunki()"
      ]
    },
    {
      "cell_type": "markdown",
      "metadata": {},
      "source": [
        "### Przykład: Sprawdzanie czy liczba jest parzysta"
      ]
    },
    {
      "cell_type": "code",
      "execution_count": null,
      "metadata": {},
      "outputs": [],
      "source": [
        "# Wprowadzenie do funkcji\n",
        "def liczbaParzysta():\n",
        "    # Definicja liczby w zmiennej całkowitej oraz wprowadzenie jej przez użytkownika\n",
        "    liczba = int(input(\"Podaj liczbę: \"))\n",
        "    \n",
        "    # Sprawdzenie czy liczba jest podzielna przez 2\n",
        "    if liczba % 2 == 0:\n",
        "        # Jeśli tak to dodaj 8 do liczby\n",
        "        liczba = liczba + 8\n",
        "        # Wyświetl wynik\n",
        "        print(liczba)\n",
        "    # Jeśli nie\n",
        "    else:\n",
        "        # Pomnóż liczbę przez 5\n",
        "        liczba = liczba * 5\n",
        "        # Wyświetl wynik\n",
        "        print(liczba)\n",
        "\n",
        "liczbaParzysta()"
      ]
    },
    {
      "cell_type": "markdown",
      "metadata": {},
      "source": [
        "### Przykład: Kalkulator BMI"
      ]
    },
    {
      "cell_type": "code",
      "execution_count": null,
      "metadata": {},
      "outputs": [],
      "source": [
        "\n",
        "def kalkulatorBMI():\n",
        "    masa = float(input(\"Podaj swoją wagę w kg: \"))\n",
        "    wzrost = float(input(\"Podaj swój wzrost w metrach: \"))\n",
        "    \n",
        "    bmi = masa / (wzrost ** 2)\n",
        "    \n",
        "    print(f\"Twoje BMI to: {bmi:.2f}\")\n",
        "    \n",
        "    if bmi < 18:\n",
        "        print(\"Niedowaga\")\n",
        "    elif bmi >= 18 and bmi <= 25:\n",
        "        print(\"Waga prawidłowa\")\n",
        "    elif bmi > 25 and bmi <= 30:\n",
        "        print(\"Nadwaga\")\n",
        "    elif bmi > 30:\n",
        "        print(\"Otyłość\")\n",
        "    else:\n",
        "        print(\"Nieprawidłowe dane\")\n",
        "        \n",
        "\n",
        "kalkulatorBMI()"
      ]
    },
    {
      "cell_type": "markdown",
      "metadata": {},
      "source": [
        "<a id=\"petle\"></a>\n",
        "## 4. Pętle for i while\n",
        "\n",
        "Pętle pozwalają na wielokrotne wykonanie tego samego kodu."
      ]
    },
    {
      "cell_type": "code",
      "execution_count": null,
      "metadata": {},
      "outputs": [],
      "source": [
        "# Wprowadzenie do pętli for\n",
        "# Pętla for wykonuje się przez określoną liczbę razy\n",
        "# W tym przypadku 11 razy\n",
        "for i in range(1, 11):\n",
        "    # Wypisuje liczby od 1 do 10\n",
        "    print(i)\n",
        "\n",
        "# Przerwa pomiędzy dla poprawy czytelności\n",
        "print(' ')\n",
        "\n",
        "# Pętla for wykonuje się przez określoną liczbę razy\n",
        "# W tym przypadku 10 razy\n",
        "for i in range(10):\n",
        "    # Wypisuje liczby od 0 do 9\n",
        "    print(i)\n",
        "\n",
        "print(' ')\n",
        "# Pętla for wykonuje się przez określoną liczbę razy\n",
        "# W tym przypadku 10 razy i co drugi krok\n",
        "for i in range(1, 10, 2):\n",
        "    print(i)"
      ]
    },
    {
      "cell_type": "markdown",
      "metadata": {},
      "source": [
        "### Pętla for dla sekwencji (np. łańcuchów znaków)"
      ]
    },
    {
      "cell_type": "code",
      "execution_count": null,
      "metadata": {},
      "outputs": [],
      "source": [
        "# Wypisywanie liter z napisu\n",
        "slowo = \"wtorek\"\n",
        "\n",
        "# Pętla do wypisania liter z napisu\n",
        "for litera in slowo:\n",
        "    # Wypisanie litery z końcówką '-' po literze\n",
        "    print(litera, end=\"-\")"
      ]
    },
    {
      "cell_type": "markdown",
      "metadata": {},
      "source": [
        "### Pętla while - wykonuje się, dopóki warunek jest prawdziwy"
      ]
    },
    {
      "cell_type": "code",
      "execution_count": null,
      "metadata": {},
      "outputs": [],
      "source": [
        "# Podanie imienia przez użytkownika\n",
        "# i przypisanie go do zmiennej imie\n",
        "imie = input(\"Podaj imię: \")\n",
        "\n",
        "# Pętla while wykonuje się do momentu spełnienia warunku\n",
        "# W tym przypadku do momentu podania imienia \"Janek\"\n",
        "while imie != \"Janek\":\n",
        "    # Jeśli imię nie jest \"Janek\" to wypisz komunikat\n",
        "    print(\"Błędne imię\")\n",
        "    # Poproś o podanie imienia\n",
        "    imie = input(\"Podaj imię: \")"
      ]
    },
    {
      "cell_type": "markdown",
      "metadata": {},
      "source": [
        "<a id=\"listy\"></a>\n",
        "## 5. Wprowadzenie do List\n",
        "\n",
        "- Lista to zmienna, która może przechowywać wiele wartości\n",
        "- Dzięki metody append() możemy dodawać elementy do listy\n",
        "\n",
        "Listy to jedne z najważniejszych struktur danych w Pythonie. Służą do przechowywania wielu wartości w jednej zmiennej."
      ]
    },
    {
      "cell_type": "code",
      "execution_count": null,
      "metadata": {},
      "outputs": [],
      "source": [
        "# Definicja listy poprzez \"[]\"\n",
        "# W tym przypadku lista będzie przechowywać liczby całkowite\n",
        "lista = []\n",
        "\n",
        "# Dodanie elementów do listy\n",
        "# append() dodaje element na końcu listy\n",
        "lista.append(10)\n",
        "lista.append(20)\n",
        "lista.append(30)\n",
        "\n",
        "# Wyświetlenie listy\n",
        "print(\"Lista po dodaniu elementów:\", lista)"
      ]
    },
    {
      "cell_type": "markdown",
      "metadata": {},
      "source": [
        "### Tworzenie listy z elementami wprowadzonymi przez użytkownika"
      ]
    },
    {
      "cell_type": "code",
      "execution_count": null,
      "metadata": {},
      "outputs": [],
      "source": [
        "# Tworzenie funkcji do wpisywania liczb\n",
        "def wpisywanie():\n",
        "    # Definicja pustej listy\n",
        "    lista = []\n",
        "\n",
        "    # Pętla do wpisania 5 liczb\n",
        "    for i in range(5):\n",
        "        # Wpisanie liczby przez użytkownika\n",
        "        liczba = int(input(f\"Podaj liczbę {i+1}: \"))\n",
        "        # Dodanie liczby do listy\n",
        "        lista.append(liczba)\n",
        "\n",
        "    # Wyświetlenie listy\n",
        "    print(\"Elementy listy:\")\n",
        "    # Pętla do wypisania elementów listy\n",
        "    for n in lista:\n",
        "        # Wypisanie elementu listy\n",
        "        print(n)\n",
        "    \n",
        "    return lista\n",
        "\n",
        "# Wywołanie funkcji do wpisywania liczb\n",
        "moja_lista = wpisywanie()"
      ]
    },
    {
      "cell_type": "markdown",
      "metadata": {},
      "source": [
        "### Filtrowanie elementów listy"
      ]
    },
    {
      "cell_type": "code",
      "execution_count": null,
      "metadata": {},
      "outputs": [],
      "source": [
        "# Definicja liczby z danymi\n",
        "# W tym przypadku lista będzie przechowywać liczby całkowite\n",
        "lista_przykładowa = [1, 2, 3, 4, 5, 6, 7, 8, 9, 10]\n",
        "\n",
        "# Wyświetlenie elementów listy\n",
        "print(\"Parzyste liczby w liście:\")\n",
        "# Pętla do wypisania elementów listy\n",
        "for liczba in lista_przykładowa:\n",
        "    # Sprawdzenie czy liczba jest parzysta\n",
        "    if liczba % 2 == 0:\n",
        "        # Wypisanie liczby\n",
        "        print(liczba)\n",
        "\n",
        "# Wyświetlenie elementów listy o parzystych indeksach\n",
        "print(\"\\nElementy o parzystych indeksach:\")\n",
        "#  Pętla do wypisania elementów listy o parzystych indeksach\n",
        "for i in range(0, len(lista_przykładowa), 2):\n",
        "    # Wypisanie elementu listy o parzystym indeksie\n",
        "    print(lista_przykładowa[i])\n",
        "\n",
        "# Wyświetlenie elementów listy od końca\n",
        "print(\"\\nLista od końca:\")\n",
        "# Pętla do wypisania elementów listy od końca\n",
        "# W tym przypadku od ostatniego elementu do pierwszego\n",
        "for i in range(len(lista_przykładowa)-1, -1, -1):\n",
        "    # Wypisanie elementu listy od końca\n",
        "    print(lista_przykładowa[i])"
      ]
    },
    {
      "cell_type": "markdown",
      "metadata": {},
      "source": [
        "### Operacje statystyczne na listach"
      ]
    },
    {
      "cell_type": "code",
      "execution_count": null,
      "metadata": {},
      "outputs": [],
      "source": [
        "# Import biblioteki random do generowania losowych liczb\n",
        "import random\n",
        "\n",
        "# Definicja pustej listy\n",
        "liczby = []\n",
        "# Pętla do generowania 10 losowych liczb\n",
        "for i in range(10):\n",
        "    # Generowanie losowej liczby z zakresu 1-10\n",
        "    # i dodanie jej do listy\n",
        "    liczby.append(random.randint(1, 10))\n",
        "\n",
        "# Wyświetlenie listy losowych liczb\n",
        "print(\"Lista losowych liczb:\", liczby)\n",
        "\n",
        "# Obliczenie sumy, średniej, minimum i maksimum\n",
        "# Inicjalizacja zmiennej suma\n",
        "suma = 0\n",
        "# Pętla do obliczenia sumy liczb w liście\n",
        "for liczba in liczby:\n",
        "    # Dodanie liczby do sumy\n",
        "    suma += liczba\n",
        "\n",
        "# Wyświetlenie sumy\n",
        "print(\"Suma wszystkich liczb:\", suma)\n",
        "# Obliczenie średniej\n",
        "srednia = suma / len(liczby)\n",
        "# Wyświetlenie średniej\n",
        "print(\"Średnia:\", srednia)\n",
        "\n",
        "# Inicjalizacja zmiennych minimum i maksimum\n",
        "# Ustawienie pierwszej liczby jako minimum i maksimum\n",
        "minimum = liczby[0]\n",
        "maksimum = liczby[0]\n",
        "\n",
        "# Pętla do obliczenia minimum i maksimum\n",
        "# W tym przypadku porównujemy każdą liczbę z minimum i maksimum\n",
        "for liczba in liczby:\n",
        "    # Sprawdzenie czy liczba jest mniejsza od minimum\n",
        "    if liczba < minimum:\n",
        "        # Jeśli tak to ustawiamy ją jako minimum\n",
        "        minimum = liczba\n",
        "        # Jeśli nie to sprawdzamy czy liczba jest większa od maksimum\n",
        "    # Sprawdzenie czy liczba jest większa od maksimum\n",
        "    if liczba > maksimum:\n",
        "        # Sprawdzenie czy liczba jest większa od maksimum\n",
        "        maksimum = liczba\n",
        "\n",
        "# Wyświetlenie minimum i maksimum\n",
        "print(\"Minimum:\", minimum)\n",
        "print(\"Maksimum:\", maksimum)"
      ]
    },
    {
      "cell_type": "markdown",
      "metadata": {},
      "source": [
        "<a id=\"krotki\"></a>\n",
        "## 6. Krotki (tuples)\n",
        "- Definicja krotki jest poprzez \"()\"\n",
        "- Krotka jest niemutowalna, czyli nie można zmieniać jej elementów\n",
        "- Krotka jest również uporządkowana, czyli elementy mają swoje indeksy\n",
        "- Krotka może przechowywać różne typy danych\n",
        "\n",
        "Krotka to niezmienna (niemutowalna) sekwencja elementów. "
      ]
    },
    {
      "cell_type": "code",
      "execution_count": null,
      "metadata": {},
      "outputs": [],
      "source": [
        "# Definicja krotki poprzez \"()\"\n",
        "# W tym przypadku krotka będzie przechowywać liczby całkowite\n",
        "krotka = (1, 2, 3, 4)\n",
        "\n",
        "# Wypisanie elementów krotki\n",
        "print(\"Elementy krotki:\")\n",
        "# Pętla do wypisania elementów krotki\n",
        "for element in krotka:\n",
        "    # Wypisanie elementu krotki\n",
        "    print(element)\n",
        "\n",
        "# Wypisanie elementów krotki przez indeks\n",
        "print(\"\\nElementy krotki przez indeks:\")\n",
        "# Pętla do wypisania elementów krotki przez indeks\n",
        "for i in range(len(krotka)):\n",
        "    # Wypisanie elementu krotki przez indeks\n",
        "    print(f\"Element o indeksie {i}: {krotka[i]}\")\n",
        "\n",
        "# Definicja krotki z różnymi typami danych\n",
        "# W tym przypadku krotka będzie przechowywać różne typy danych\n",
        "krotka_jednoelementowa = (5,)\n",
        "# Dodanie przecinka po elemencie, aby krotka była jednoelementowa\n",
        "print(\"\\nKrotka jednoelementowa:\", krotka_jednoelementowa)"
      ]
    },
    {
      "cell_type": "markdown",
      "metadata": {},
      "source": [
        "<a id=\"slowniki\"></a>\n",
        "## 7. Słowniki (dictionaries)\n",
        "\n",
        "Słownik to struktura przechowująca pary klucz-wartość."
      ]
    },
    {
      "cell_type": "code",
      "execution_count": null,
      "metadata": {},
      "outputs": [],
      "source": [
        "# Definicja zbioru poprzez \"{}\"\n",
        "slownik = {\n",
        "    1: \"jeden\",\n",
        "    2: \"dwa\",\n",
        "    3: \"trzy\",\n",
        "    4: \"jeden\",\n",
        "}\n",
        "\n",
        "# Dodanie elementu do zbioru\n",
        "slownik[5] = \"pięć\"\n",
        "# Wypisanie elementów zbioru\n",
        "print(\"Słownik po dodaniu elementu:\", slownik)\n",
        "\n",
        "# Wypisanie rozmiaru zbioru\n",
        "print(\"Rozmiar słownika:\", len(slownik))\n",
        "\n",
        "# Modyfikacja elementu w zbiorze\n",
        "# W tym przypadku zmiana wartości dla klucza 4 na \"cztery\"\n",
        "slownik[4] = \"cztery\"\n",
        "# Wypisanie elementów zbioru po modyfikacji\n",
        "print(\"Słownik po modyfikacji:\", slownik)\n",
        "\n",
        "# Sprawdzenie czy klucz 4 istnieje w zbiorze\n",
        "# i wypisanie jego wartości\n",
        "if 4 in slownik:\n",
        "    # Jeśli klucz 4 istnieje to wypisz jego wartość\n",
        "    # Wypisanie wartości dla klucza 4\n",
        "    print(f\"4 jest kluczem w słowniku i ma wartość: {slownik[4]}\")\n",
        "\n",
        "# Sprawdzenie czy klucz 3 istnieje w zbiorze\n",
        "# i wypisanie jego wartości\n",
        "print(\"Wartość dla klucza 3:\", slownik[3])"
      ]
    },
    {
      "cell_type": "markdown",
      "metadata": {},
      "source": [
        "<a id=\"operacje-slowniki\"></a>\n",
        "## 8. Operacje na słownikach\n",
        "\n",
        "Słowniki są bardzo przydatne do przechowywania danych powiązanych."
      ]
    },
    {
      "cell_type": "code",
      "execution_count": null,
      "metadata": {},
      "outputs": [],
      "source": [
        "# Definicja słownika poprzez \"{}\"\n",
        "# W tym przypadku słownik będzie przechowywać pary klucz-wartość\n",
        "# Kluczami będą napisy w języku polskim, a wartościami w języku angielskim\n",
        "slownik_pl_en = {\n",
        "    \"pies\": \"dog\",\n",
        "    \"kot\": \"cat\",\n",
        "    \"małpa\": \"monkey\",\n",
        "    \"ptak\": \"bird\",\n",
        "}\n",
        "\n",
        "print(\"Klucze słownika i ich wartości:\")\n",
        "# Pętla do wypisania kluczy i wartości słownika\n",
        "for klucz in slownik_pl_en.keys():\n",
        "    # Wypisanie klucza i jego wartości\n",
        "    print(f\"{klucz}: {slownik_pl_en[klucz]}\")\n",
        "\n",
        "print(\"\\nWartości słownika:\")\n",
        "# Dodanie elementu do słownika\n",
        "for wartosc in slownik_pl_en.values():\n",
        "    # Wypisanie wartości słownika\n",
        "    print(wartosc)\n",
        "\n",
        "print(\"\\nPary klucz-wartość:\")\n",
        "# Pętla do wypisania par klucz-wartość słownika\n",
        "# W tym przypadku wypisujemy klucz i jego wartość\n",
        "for klucz, wartosc in slownik_pl_en.items():\n",
        "    # Wypisanie klucza i jego wartości\n",
        "    # Wypisanie pary klucz-wartość\n",
        "    print(f\"{klucz}: {wartosc}\")"
      ]
    },
    {
      "cell_type": "markdown",
      "metadata": {},
      "source": [
        "<a id=\"funkcje\"></a>\n",
        "## 9. Funkcje\n",
        "\n",
        "Funkcje pozwalają na grupowanie kodu, który wykonuje określone zadanie."
      ]
    },
    {
      "cell_type": "code",
      "execution_count": null,
      "metadata": {},
      "outputs": [],
      "source": [
        "# Definicja funkcji poprzez \"def\"\n",
        "# Funkcja nie przyjmuje żadnych argumentów\n",
        "def mojaFunkcja():\n",
        "    # Definicja zmiennej a w funkcji\n",
        "    # Wartość zmiennej a będzie 2\n",
        "    # Definicja zmiennej b w funkcji\n",
        "    # Wartość zmiennej b będzie 5\n",
        "    # Zmienna a i b będą lokalne dla funkcji\n",
        "    # Przez co wartości zmiennych a i b nie będą dostępne poza funkcją\n",
        "    a = 2\n",
        "    b = 5\n",
        "    # Wypisanie zmiennej a i b i ich sumy\n",
        "    print(f'a + b = {a + b}')\n",
        "\n",
        "# Definicja zmiennej a poza funkcją\n",
        "a = 10\n",
        "# Wywołanie funkcji\n",
        "mojaFunkcja()\n",
        "# Wypisanie zmiennej a poza funkcją\n",
        "print(f'Zmienna a poza funkcją: {a}')"
      ]
    },
    {
      "cell_type": "code",
      "execution_count": null,
      "metadata": {},
      "outputs": [],
      "source": [
        "# Definicja funkcji poprzez \"def\"\n",
        "# Funkcja przyjmuje jeden argument imie\n",
        "def przywitanie(imie):\n",
        "    # Wypisanie powitania z imieniem\n",
        "    print(f'Witaj, {imie}!')\n",
        "\n",
        "# Wywołanie funkcji przywitanie z argumentem 'Aleksander'\n",
        "przywitanie('Aleksander')\n",
        "\n",
        "# Definicja funkcji poprzez \"def\"\n",
        "# Funkcja przyjmuje dwa argumenty imie i nazwisko\n",
        "def przywitanie2(imie, nazwisko):\n",
        "    # Wypisanie powitania z imieniem i nazwiskiem\n",
        "    print(f'Witaj, {imie} {nazwisko}!')\n",
        "\n",
        "# Wywołanie funkcji przywitanie2 z argumentami 'Aleksander' i 'Staszków'\n",
        "przywitanie2('Aleksander', 'Staszków')"
      ]
    },
    {
      "cell_type": "code",
      "execution_count": null,
      "metadata": {},
      "outputs": [],
      "source": [
        "# Definicja funkcji poprzez \"def\"\n",
        "# Funkcja przyjmuje dwa argumenty a i b i ich wartości domyślne\n",
        "def suma(a=0, b=0):\n",
        "    # Funkcja zwraca sumę a i b\n",
        "    # Wartości domyślne to 0\n",
        "    return a + b\n",
        "\n",
        "# Wywołanie funkcji suma z argumentami 4 i 3\n",
        "liczba = suma(4, 3)\n",
        "# Wypisanie sumy 4 i 3 z poza funkcji w zmiennej liczba\n",
        "print(f\"Suma 4 i 3 wynosi: {liczba}\")\n",
        "# Wypisanie sumy z funkcji suma\n",
        "print(f\"Suma z wartościami domyślnymi: {suma()}\")\n",
        "\n",
        "# Definicja funkcji poprzez \"def\"\n",
        "# Funkcja przyjmuje dwa argumenty a i b\n",
        "# Funkcja zwraca iloczyn a i b\n",
        "def iloczyn(a, b):\n",
        "    return a * b\n",
        "\n",
        "# Wywołanie funkcji iloczyn z argumentami 2 i 3\n",
        "print(f\"Iloczyn 2 i 3 wynosi: {iloczyn(2, 3)}\")\n",
        "print(f\"Iloczyn 3.4 i 2 wynosi: {iloczyn(3.4, 2)}\")"
      ]
    },
    {
      "cell_type": "markdown",
      "id": "592b288a",
      "metadata": {},
      "source": [
        "<a id=\"funkcjeSprawdzian\"></a>\n",
        "## 10. Funkcje Sprawdzian\n",
        "\n",
        "Kopia sprawdzianu z funkcji"
      ]
    },
    {
      "cell_type": "code",
      "execution_count": null,
      "id": "801f1a43",
      "metadata": {},
      "outputs": [],
      "source": [
        "# 1. Suma liczb w liście\n",
        "# Funkcja przyjmuje listę liczb całkowitych i zwraca ich sumę.\n",
        "lista = [1, 2, 3, 4, 5]\n",
        "\n",
        "def suma_liczb(lista):\n",
        "    return sum(lista)\n",
        "\n",
        "print(suma_liczb(lista))\n",
        "\n",
        "# 2. Liczba wystąpień znaku w napisie\n",
        "# Funkcja przyjmuje napis oraz znak, a zwraca liczbę jego wystąpień w napisie.\n",
        "tekst = \"Ala ma kota\" \n",
        "napis = \"Ala ma kota\"\n",
        "znak = \"a\"\n",
        "\n",
        "def licz_wystapienia(tekst, znak):\n",
        "    return tekst.count(znak)\n",
        "\n",
        "print(licz_wystapienia(napis, znak))\n",
        "\n",
        "# 3. Maksymalna liczba w liście\n",
        "# Funkcja przyjmuje listę liczb i zwraca największą liczbę.\n",
        "def maksimum(lista):\n",
        "    return max(lista)\n",
        "\n",
        "print(maksimum(lista))\n",
        "\n",
        "# 4. Odwracanie napisu\n",
        "# Funkcja przyjmuje napis i zwraca ten sam napis odwrócony.\n",
        "def odwroc_napis(napis):\n",
        "    return napis[::-1]\n",
        "\n",
        "print(odwroc_napis(napis))\n",
        "\n",
        "# 8. Suma cyfr liczby\n",
        "# Funkcja przyjmuje liczbę całkowitą i zwraca sumę jej cyfr.\n",
        "def suma_cyfr(liczba):\n",
        "    suma = 0\n",
        "    while liczba > 0:\n",
        "        suma += liczba % 10\n",
        "        liczba //= 10\n",
        "    return suma\n",
        "\n",
        "print(suma_cyfr(12345))\n",
        "\n",
        "# 10. Średnia arytmetyczna\n",
        "# Funkcja przyjmuje listę liczb i zwraca ich średnią arytmetyczną.\n",
        "def srednia(lista):\n",
        "    return sum(lista) / len(lista)\n",
        "\n",
        "print(srednia(lista))"
      ]
    },
    {
      "cell_type": "markdown",
      "metadata": {},
      "source": [
        "<a id=\"wycinki\"></a>\n",
        "## 11. Wycinki list (slicing)\n",
        "\n",
        "Wycinki pozwalają na pobieranie fragmentów list i innych sekwencji."
      ]
    },
    {
      "cell_type": "code",
      "execution_count": null,
      "metadata": {},
      "outputs": [],
      "source": [
        "# Definicji listy poprzez \"[]\" z elementami\n",
        "# W tym przypadku lista będzie przechowywać liczby całkowite\n",
        "lista = [1, 3, 4, 6, 10, 13, 2, 1]\n",
        "\n",
        "# Przypisanie listy do zmiennej lista2\n",
        "lista2 = lista\n",
        "# Dodanie elementu do listy2\n",
        "# W tym przypadku dodanie liczby 9 do listy2\n",
        "lista2.append(9)\n",
        "# Wypisanie listy po dodaniu elementu do listy2\n",
        "print(\"Lista oryginalna po modyfikacji lista2:\", lista)\n",
        "\n",
        "# Przypisanie listy do zmiennej lista3\n",
        "# W tym przypadku lista3 będzie kopią listy\n",
        "lista3 = lista[:]\n",
        "# Dodanie elementu do listy3 \n",
        "# W tym przypadku dodanie liczby 4 do listy3\n",
        "lista3.append(4)\n",
        "# Wypisanie listy po dodaniu elementu do listy3\n",
        "print(\"\\nLista oryginalna po modyfikacji lista3:\", lista)\n",
        "print(\"Lista3:\", lista3)"
      ]
    },
    {
      "cell_type": "code",
      "execution_count": null,
      "metadata": {},
      "outputs": [],
      "source": [
        "# Definicja listy poprzez \"[]\" z elementami\n",
        "# W tym przypadku lista będzie przechowywać liczby całkowite\n",
        "lista = [1, 2, 3, 4, 5, 6, 7, 8]\n",
        "\n",
        "# Wypisanie elementów listy z podziałem od indeksu 1 do 2\n",
        "elementy = lista[1:3]\n",
        "# Wypisanie elementów listy od indeksu 1 do 2\n",
        "print(\"Elementy od indeksu 1 do 2:\", elementy)\n",
        "\n",
        "# Wypisanie elementów listy z podziałem od indeksu 3 do 1\n",
        "elementy = lista[3:1]\n",
        "# Wypisanie elementów listy od indeksu 3 do 1\n",
        "print(\"Elementy od indeksu 3 do 1:\", elementy)\n",
        "\n",
        "# Wypisanie elementów listy z podziałem od indeksu 0 do 3\n",
        "elementy = lista[0:3]\n",
        "# Wypisanie elementów listy od indeksu 0 do 3\n",
        "print(\"Pierwsze trzy elementy:\", elementy)\n",
        "\n",
        "# Wypisanie elementów listy z podziałem od indeksu 3 do 0\n",
        "elementy = lista[-3:]\n",
        "# Wypisanie elementów listy od indeksu 3 do 0\n",
        "print(\"Ostatnie trzy elementy:\", elementy)\n",
        "\n",
        "# Wypisanie elementów listy z podziałem od indeksu 1 do -1\n",
        "elementy = lista[1:-1]\n",
        "# Wypisanie elementów listy od indeksu 1 do -1\n",
        "print(\"Wszystkie elementy oprócz pierwszego i ostatniego:\", elementy)"
      ]
    },
    {
      "cell_type": "markdown",
      "metadata": {},
      "source": [
        "<a id=\"zadania\"></a>\n",
        "## 11. Praktyczne zadania\n",
        "\n",
        "### Zadanie 1: Suma liczb od 1 do 100"
      ]
    },
    {
      "cell_type": "code",
      "execution_count": null,
      "metadata": {},
      "outputs": [],
      "source": [
        "# Definicja zmiennej suma\n",
        "suma = 0\n",
        "\n",
        "# Pętla do obliczenia sumy liczb od 1 do 100\n",
        "for i in range(1, 101):\n",
        "    # Dodanie liczby i do sumy\n",
        "    suma += i\n",
        "\n",
        "# Wypisanie sumy liczb od 1 do 100\n",
        "print(f\"Suma liczb od 1 do 100: {suma}\")"
      ]
    },
    {
      "cell_type": "markdown",
      "metadata": {},
      "source": [
        "### Zadanie 2: Suma liczb parzystych od 1 do 100"
      ]
    },
    {
      "cell_type": "code",
      "execution_count": null,
      "metadata": {},
      "outputs": [],
      "source": [
        "# Definicja zmiennej suma_parzystych\n",
        "suma_parzystych = 0\n",
        "\n",
        "# Pętla do obliczenia sumy liczb parzystych od 1 do 100\n",
        "for i in range(1, 101):\n",
        "    # Sprawdzenie czy liczba i jest parzysta\n",
        "    if i % 2 == 0:\n",
        "        # Dodanie liczby i do sumy_parzystych\n",
        "        suma_parzystych += i\n",
        "\n",
        "# Wypisanie sumy liczb parzystych od 1 do 100\n",
        "print(f\"Suma liczb parzystych od 1 do 100: {suma_parzystych}\")"
      ]
    },
    {
      "cell_type": "markdown",
      "metadata": {},
      "source": [
        "### Zadanie 3: FizzBuzz - klasyczne zadanie programistyczne"
      ]
    },
    {
      "cell_type": "code",
      "execution_count": null,
      "metadata": {},
      "outputs": [],
      "source": [
        "print(\"FizzBuzz dla liczb od 1 do 20:\")\n",
        "\n",
        "# Pętla do wypisania FizzBuzz dla liczb od 1 do 20\n",
        "for i in range(1, 21):\n",
        "    # Sprawdzenie czy liczba i jest podzielna przez 3 i 5\n",
        "    # Jeśli tak to wypisz \"FizzBuzz\"\n",
        "    if i % 5 == 0 and i % 3 == 0:\n",
        "        print(\"FizzBuzz\")\n",
        "    # Sprawdzenie czy liczba i jest podzielna przez 3\n",
        "    # Jeśli tak to wypisz \"Fizz\"\n",
        "    elif i % 3 == 0:\n",
        "        print(\"Fizz\")\n",
        "    # Sprawdzenie czy liczba i jest podzielna przez 5\n",
        "    # Jeśli tak to wypisz \"Buzz\"\n",
        "    elif i % 5 == 0:\n",
        "        print(\"Buzz\")\n",
        "    # Jeśli liczba i nie jest podzielna przez 3 ani 5\n",
        "    # to wypisz liczbę i\n",
        "    else:\n",
        "        print(i)"
      ]
    },
    {
      "cell_type": "markdown",
      "metadata": {},
      "source": [
        "### Zadanie 4: Wypisz liczby od 1 do 10 z wyjątkiem liczby 7"
      ]
    },
    {
      "cell_type": "code",
      "execution_count": null,
      "metadata": {},
      "outputs": [],
      "source": [
        "print(\"Liczby od 1 do 10 z wyjątkiem 7:\")\n",
        "\n",
        "# Pętla do wypisania liczb od 1 do 10 z wyjątkiem 7\n",
        "for i in range(1, 11):\n",
        "    # Sprawdzenie czy liczba i jest równa 7\n",
        "    # Jeśli tak to pomiń tę iterację\n",
        "    if i != 7:\n",
        "        # Wypisanie liczby i\n",
        "        print(i)"
      ]
    },
    {
      "cell_type": "markdown",
      "metadata": {},
      "source": [
        "<a id=\"piramida\"></a>\n",
        "## 12. Zadanie zaawansowane - obliczanie wysokości piramidy"
      ]
    },
    {
      "cell_type": "code",
      "execution_count": null,
      "metadata": {},
      "outputs": [],
      "source": [
        "# Definicja funkcji do obliczenia wysokości piramidy\n",
        "def piramida(bloczki):\n",
        "    # Inicjalizacja zmiennej ilosc_bloczkow\n",
        "    ilosc_bloczkow = bloczki\n",
        "    # Inicjalizacja zmiennej wysokosc\n",
        "    wysokosc = 0\n",
        "    \n",
        "    # Pętla do obliczenia wysokości piramidy\n",
        "    for i in range(1, bloczki + 1):\n",
        "        # Sprawdzenie czy ilosc_bloczkow jest większa lub równa i\n",
        "        if ilosc_bloczkow >= i:\n",
        "            # Jeśli tak to odejmij i od ilosc_bloczkow\n",
        "            # i zwiększ wysokość o 1\n",
        "            ilosc_bloczkow -= i\n",
        "            wysokosc += 1\n",
        "        # Jeśli nie to przerwij pętlę\n",
        "        else:\n",
        "            break\n",
        "    \n",
        "    # Wypisanie wysokości piramidy \n",
        "    return wysokosc\n",
        "\n",
        "# Przykłady użycia funkcji piramida\n",
        "# Obliczenie wysokości piramidy z 6 klocków\n",
        "klocki = 6\n",
        "# Przekazujemy zmieną klocki do funkcji piramida\n",
        "wysokosc = piramida(klocki)\n",
        "print(f\"Z {klocki} klocków można zbudować piramidę o wysokości {wysokosc}\")\n",
        "\n",
        "# Zmieniamy wartosc zmiennej klocki na 21\n",
        "klocki = 21\n",
        "wysokosc = piramida(klocki)\n",
        "print(f\"Z {klocki} klocków można zbudować piramidę o wysokości {wysokosc}\")"
      ]
    },
    {
      "cell_type": "markdown",
      "metadata": {},
      "source": [
        "## Podsumowanie\n",
        "\n",
        "Ten notatnik zawiera podstawowe zagadnienia programowania w Pythonie:\n",
        "- zmienne i typy danych\n",
        "- instrukcje warunkowe\n",
        "- pętle\n",
        "- listy i operacje na listach\n",
        "- krotki (tuples)\n",
        "- słowniki (dictionaries)\n",
        "- funkcje\n",
        "- wycinki list\n",
        "- praktyczne zadania\n",
        "- zadanie zaawansowane (piramida)\n",
        "\n",
        "Pamiętaj, że kluczem do nauki programowania jest praktyka – warto eksperymentować z kodem i rozwiązywać dodatkowe zadania!"
      ]
    }
  ],
  "metadata": {
    "kernelspec": {
      "display_name": "Python 3",
      "language": "python",
      "name": "python3"
    },
    "language_info": {
      "codemirror_mode": {
        "name": "ipython",
        "version": 3
      },
      "file_extension": ".py",
      "mimetype": "text/x-python",
      "name": "python",
      "nbconvert_exporter": "python",
      "pygments_lexer": "ipython3",
      "version": "3.13.0"
    }
  },
  "nbformat": 4,
  "nbformat_minor": 5
}
