{
 "cells": [
  {
   "cell_type": "markdown",
   "metadata": {},
   "source": [
    "# Notatnik z zadaniami programistycznymi w Python\n",
    "\n",
    "Ten notatnik zawiera zbiór zadań programistycznych ułożonych od najłatwiejszych do najtrudniejszych. Każde zadanie jest opatrzone opisem, kodem oraz wyjaśnieniem działania.\n",
    "\n",
    "## Spis treści:\n",
    "1. Podstawowe operacje na tekście i liczbach\n",
    "2. Obliczenia geometryczne\n",
    "3. Problem Collatza (zadanie matematyczne)\n",
    "4. Problem Mikołaja (optymalizacja plecakowa)\n",
    "5. Problem bakterii (reprezentacja binarna)"
   ]
  },
  {
   "cell_type": "markdown",
   "metadata": {},
   "source": [
    "## 1. Podstawowe operacje na tekście i liczbach\n",
    "\n",
    "Zaczniemy od prostych zadań, które wprowadzają podstawowe koncepcje programowania w Pythonie."
   ]
  },
  {
   "cell_type": "markdown",
   "metadata": {},
   "source": [
    "### Zadanie 1.1: Powtarzanie ciągu tekstowego\n",
    "\n",
    "**Polecenie:** Napisz funkcję, która przyjmuje jako argument liczbę całkowitą n oraz ciąg tekstowy s. Zadaniem funkcji jest zwrócenie ciągu tekstowego, który składa się z n powtórzonych ciągów s rozdzielonych spacją."
   ]
  },
  {
   "cell_type": "code",
   "execution_count": null,
   "metadata": {},
   "outputs": [],
   "source": [
    "def zadJeden(n, s):\n",
    "    return (s + \" \") * n\n",
    "\n",
    "# Testujemy funkcję\n",
    "print(zadJeden(3, \"Python\"))\n",
    "print(zadJeden(1, \"test\"))\n",
    "print(zadJeden(5, \"ABC\"))"
   ]
  },
  {
   "cell_type": "markdown",
   "metadata": {},
   "source": [
    "**Wyjaśnienie:**\n",
    "- Funkcja `zadJeden` przyjmuje dwa argumenty: `n` (ile razy powtórzyć) i `s` (co powtórzyć)\n",
    "- Wykorzystujemy operator mnożenia `*` dla ciągów znaków, który powtarza ciąg określoną liczbę razy\n",
    "- Do ciągu `s` dodajemy spację, aby poszczególne powtórzenia były oddzielone\n",
    "\n",
    "**Uwaga:** To rozwiązanie dodaje spację również po ostatnim elemencie. Dla bardziej precyzyjnego rozwiązania można użyć metody `join`:"
   ]
  },
  {
   "cell_type": "code",
   "execution_count": null,
   "metadata": {},
   "outputs": [],
   "source": [
    "def zadJedenAlternatywnie(n, s):\n",
    "    return \" \".join([s] * n)\n",
    "\n",
    "print(zadJedenAlternatywnie(3, \"Python\"))"
   ]
  },
  {
   "cell_type": "markdown",
   "metadata": {},
   "source": [
    "### Zadanie 1.2: Sprawdzanie podzielności\n",
    "\n",
    "**Polecenie:** Napisz funkcję, która przyjmuje liczbę całkowitą a oraz b i sprawdza czy liczba a jest podzielna przez b. Zwracany jest typ bool (True/False)."
   ]
  },
  {
   "cell_type": "code",
   "execution_count": null,
   "metadata": {},
   "outputs": [],
   "source": [
    "def zadDwa(a, b):\n",
    "    return a % b == 0\n",
    "\n",
    "# Testujemy funkcję\n",
    "print(zadDwa(10, 5))  # True - 10 jest podzielne przez 5\n",
    "print(zadDwa(10, 3))  # False - 10 nie jest podzielne przez 3\n",
    "print(zadDwa(15, 5))  # True - 15 jest podzielne przez 5"
   ]
  },
  {
   "cell_type": "markdown",
   "metadata": {},
   "source": [
    "**Wyjaśnienie:**\n",
    "- Funkcja `zadDwa` sprawdza, czy liczba `a` jest podzielna przez liczbę `b`\n",
    "- Wykorzystujemy operator modulo `%`, który zwraca resztę z dzielenia\n",
    "- Jeśli reszta z dzielenia `a` przez `b` wynosi 0, to `a` jest podzielne przez `b` (zwracamy `True`)\n",
    "- W przeciwnym wypadku zwracamy `False`"
   ]
  },
  {
   "cell_type": "markdown",
   "metadata": {},
   "source": [
    "## 2. Obliczenia geometryczne\n",
    "\n",
    "Przejdźmy do zadania, które wymaga obliczeń geometrycznych i weryfikacji danych."
   ]
  },
  {
   "cell_type": "markdown",
   "metadata": {},
   "source": [
    "### Zadanie 2: Wymiary prostopadłościanu\n",
    "\n",
    "**Polecenie:** Napisz funkcję, która przyjmuje jako argumenty trzy wymiary prostopadłościanu (a, b, h). Funkcja powinna sprawdzać czy wymiary są poprawne oraz zwracać w postaci krotki odpowiednio pole powierzchni i objętość."
   ]
  },
  {
   "cell_type": "code",
   "execution_count": null,
   "metadata": {},
   "outputs": [],
   "source": [
    "def zadTrzy(a, b, c):\n",
    "    if a <= 0 or b <= 0 or c <= 0:\n",
    "        return \"Wymiary niepoprawne\"\n",
    "    pole = (2 * a * b) + (2 * a * c) + (2 * b * c)\n",
    "    v = a * b * c\n",
    "    return (pole, v)\n",
    "\n",
    "# Testujemy różne przypadki\n",
    "print(\"Prostopadłościan o wymiarach 2, 3, 4:\")\n",
    "print(zadTrzy(2, 3, 4))\n",
    "\n",
    "print(\"\\nProstopadłościan o wymiarach 5, 5, 5 (sześcian):\")\n",
    "print(zadTrzy(5, 5, 5))\n",
    "\n",
    "print(\"\\nProstopadłościan o niepoprawnych wymiarach (ujemna wartość):\")\n",
    "print(zadTrzy(2, -3, 4))"
   ]
  },
  {
   "cell_type": "markdown",
   "metadata": {},
   "source": [
    "**Wyjaśnienie:**\n",
    "- Funkcja `zadTrzy` przyjmuje trzy argumenty: `a`, `b` i `c` (wymiary prostopadłościanu)\n",
    "- Najpierw sprawdzamy, czy wymiary są poprawne (czy są dodatnie)\n",
    "- Jeśli jakikolwiek wymiar jest mniejszy lub równy 0, zwracamy komunikat \"Wymiary niepoprawne\"\n",
    "- Jeśli wszystkie wymiary są poprawne, obliczamy:\n",
    "  - Pole powierzchni: $P = 2(ab + ac + bc)$\n",
    "  - Objętość: $V = abc$\n",
    "- Wynik zwracamy jako krotkę (pole, objętość)\n",
    "\n",
    "**Uwaga:** W tym zadaniu musimy pamiętać o walidacji danych wejściowych, co jest ważną praktyką w programowaniu."
   ]
  },
  {
   "cell_type": "markdown",
   "metadata": {},
   "source": [
    "## 3. Problem Collatza\n",
    "\n",
    "Teraz przejdziemy do problemu matematycznego, który wymaga implementacji algorytmu rekurencyjnego."
   ]
  },
  {
   "cell_type": "markdown",
   "metadata": {},
   "source": [
    "### Zadanie 3: Problem Collatza\n",
    "\n",
    "**Polecenie:** Zaimplementuj algorytm rozwiązujący Problem Collatza.\n",
    "\n",
    "**Problem Collatza** polega na tym, że dla dowolnej liczby naturalnej n wykonujemy następujące operacje:\n",
    "- Jeśli n jest parzyste, dzielimy je przez 2\n",
    "- Jeśli n jest nieparzyste, mnożymy je przez 3 i dodajemy 1\n",
    "- Powtarzamy te kroki, aż otrzymamy 1\n",
    "\n",
    "Zadanie polega na znalezieniu liczby kroków potrzebnych do osiągnięcia 1."
   ]
  },
  {
   "cell_type": "code",
   "execution_count": null,
   "metadata": {},
   "outputs": [],
   "source": [
    "def problemm(c0: int) -> int:\n",
    "    i = 0\n",
    "    while c0 != 1:\n",
    "        i += 1\n",
    "        if c0 % 2 == 0:  # Jeśli liczba jest parzysta\n",
    "            c0 /= 2\n",
    "        else:  # Jeśli liczba jest nieparzysta\n",
    "            c0 = 3 * c0 + 1\n",
    "    return i\n",
    "\n",
    "# Testujemy dla różnych liczb\n",
    "for liczba in [10, 27, 50, 100]:\n",
    "    print(f\"Dla liczby {liczba}, potrzeba {problemm(liczba)} kroków\")"
   ]
  },
  {
   "cell_type": "markdown",
   "metadata": {},
   "source": [
    "**Wyjaśnienie:**\n",
    "- Funkcja `problemm` implementuje algorytm Collatza\n",
    "- Zmienna `i` liczy, ile operacji wykonaliśmy\n",
    "- W pętli wykonujemy operacje zgodnie z algorytmem Collatza:\n",
    "  - Jeśli liczba jest parzysta, dzielimy ją przez 2\n",
    "  - Jeśli liczba jest nieparzysta, mnożymy ją przez 3 i dodajemy 1\n",
    "- Kontynuujemy, dopóki nie osiągniemy wartości 1\n",
    "- Na końcu zwracamy liczbę wykonanych operacji\n",
    "\n",
    "**Ciekawostka:** Problem Collatza (znany również jako Problem 3n+1 lub Hipoteza Collatza) jest jednym z nierozwiązanych problemów matematyki. Mimo że algorytm jest prosty, nie udowodniono matematycznie, że zawsze doprowadzi do liczby 1 dla każdej liczby naturalnej."
   ]
  },
  {
   "cell_type": "markdown",
   "metadata": {},
   "source": [
    "**Ćwiczenie dla czytelnika:** Zmodyfikuj funkcję tak, aby zwracała nie tylko liczbę kroków, ale również całą sekwencję liczb wygenerowanych przez algorytm."
   ]
  },
  {
   "cell_type": "code",
   "execution_count": null,
   "metadata": {},
   "outputs": [],
   "source": [
    "def problemm_sekwencja(c0: int):\n",
    "    i = 0\n",
    "    sekwencja = [c0]  # Zaczynamy od liczby początkowej\n",
    "    \n",
    "    while c0 != 1:\n",
    "        i += 1\n",
    "        if c0 % 2 == 0:  # Jeśli liczba jest parzysta\n",
    "            c0 = c0 // 2  # Użycie // zamiast / dla uzyskania liczby całkowitej\n",
    "        else:  # Jeśli liczba jest nieparzysta\n",
    "            c0 = 3 * c0 + 1\n",
    "        sekwencja.append(c0)\n",
    "    \n",
    "    return i, sekwencja\n",
    "\n",
    "# Testujemy dla liczby 27\n",
    "kroki, sekw = problemm_sekwencja(27)\n",
    "print(f\"Dla liczby 27 potrzeba {kroki} kroków\")\n",
    "print(f\"Sekwencja: {sekw}\")"
   ]
  },
  {
   "cell_type": "markdown",
   "metadata": {},
   "source": [
    "## 4. Problem Mikołaja (optymalizacja plecakowa)\n",
    "\n",
    "Teraz zajmiemy się problemem optymalizacyjnym, który jest uproszczoną wersją klasycznego problemu plecakowego."
   ]
  },
  {
   "cell_type": "markdown",
   "metadata": {},
   "source": [
    "### Zadanie 4: Problem plecaka Mikołaja\n",
    "\n",
    "**Polecenie:** Mikołaj musi dostarczyć prezenty dzieciom. Ma plecak o określonej pojemności i musi zaplanować, ile kursów odbędzie, aby dostarczyć wszystkie prezenty."
   ]
  },
  {
   "cell_type": "code",
   "execution_count": null,
   "metadata": {},
   "outputs": [],
   "source": [
    "import random\n",
    "\n",
    "def mikolaj(n):\n",
    "    udzwigPlecaka = 50\n",
    "    masaPrezentow = [random.randint(1, 40) for i in range(n)]\n",
    "    pojemnoscPlecaka = 0\n",
    "    kursy = 0\n",
    "\n",
    "    for prezent in masaPrezentow:\n",
    "        if pojemnoscPlecaka + prezent <= udzwigPlecaka:\n",
    "            pojemnoscPlecaka += prezent\n",
    "        else:\n",
    "            kursy += 1\n",
    "            pojemnoscPlecaka = prezent  # Rozpoczynamy nowy kurs z tym prezentem\n",
    "    \n",
    "    # Dodajemy ostatni kurs, jeśli zostały jakieś prezenty\n",
    "    if pojemnoscPlecaka > 0:\n",
    "        kursy += 1\n",
    "\n",
    "    print(\"Liczba kursów: \", kursy)\n",
    "    print(\"Masa prezentów: \", masaPrezentow)\n",
    "    print(\"Udźwig plecaka: \", udzwigPlecaka)\n",
    "    \n",
    "    return kursy\n",
    "\n",
    "# Testujemy funkcję\n",
    "random.seed(42)  # Ustalamy ziarno dla powtarzalności wyników\n",
    "mikolaj(15)"
   ]
  },
  {
   "cell_type": "markdown",
   "metadata": {},
   "source": [
    "**Wyjaśnienie:**\n",
    "- Funkcja `mikolaj` symuluje dostarczanie prezentów przez Mikołaja\n",
    "- Mikołaj ma plecak o udźwigu 50 jednostek\n",
    "- Generujemy losowo `n` prezentów o masie od 1 do 40 jednostek\n",
    "- Dla każdego prezentu:\n",
    "  - Jeśli zmieści się w aktualnie noszonym plecaku, dodajemy go\n",
    "  - Jeśli nie zmieści się, zaczynamy nowy kurs z tym prezentem\n",
    "- Funkcja zwraca liczbę potrzebnych kursów oraz wyświetla dodatkowe informacje\n",
    "\n",
    "**Problem z oryginalnym kodem:** Oryginalna funkcja miała błąd, ponieważ nie dodawała kursu, gdy plecak był pełny, a obecna implementacja to naprawia."
   ]
  },
  {
   "cell_type": "markdown",
   "metadata": {},
   "source": [
    "### Wersja B: Alternatywna implementacja problemu Mikołaja"
   ]
  },
  {
   "cell_type": "code",
   "execution_count": null,
   "metadata": {},
   "outputs": [],
   "source": [
    "def prezenty(pojemnosc: int, lista: list[int]) -> int:\n",
    "    kursy = 0\n",
    "    aktualna_pojemnosc = 0\n",
    "    \n",
    "    for prezent in lista:\n",
    "        if aktualna_pojemnosc + prezent <= pojemnosc:\n",
    "            aktualna_pojemnosc += prezent\n",
    "        else:\n",
    "            kursy += 1\n",
    "            aktualna_pojemnosc = prezent\n",
    "    \n",
    "    # Dodajemy ostatni kurs, jeśli zostały jakieś prezenty\n",
    "    if aktualna_pojemnosc > 0:\n",
    "        kursy += 1\n",
    "        \n",
    "    return kursy\n",
    "\n",
    "# Testujemy funkcję\n",
    "random.seed(42)  # Ustalamy ziarno dla powtarzalności wyników\n",
    "lista_prezentow = [random.randint(1, 100) for i in range(10)]\n",
    "print(\"Lista prezentów:\", lista_prezentow)\n",
    "print(\"Liczba kursów przy pojemności 100:\", prezenty(100, lista_prezentow))\n",
    "print(\"Liczba kursów przy pojemności 150:\", prezenty(150, lista_prezentow))\n",
    "print(\"Liczba kursów przy pojemności 200:\", prezenty(200, lista_prezentow))"
   ]
  },
  {
   "cell_type": "markdown",
   "metadata": {},
   "source": [
    "**Wyjaśnienie:**\n",
    "- Funkcja `prezenty` jest bardziej ogólna niż `mikolaj`\n",
    "- Pozwala na podanie dowolnej pojemności plecaka i listy prezentów\n",
    "- Działa według tej samej zasady: pakujemy prezenty, aż plecak się zapełni, potem zaczynamy nowy kurs\n",
    "- Również pamiętamy o dodaniu ostatniego kursu\n",
    "\n",
    "**Uwaga:** Ten algorytm jest przykładem podejścia zachłannego (greedy algorithm), gdzie w każdym kroku wybieramy lokalnie najlepsze rozwiązanie. W tym przypadku zawsze próbujemy dodać następny prezent do aktualnego kursu, jeżeli tylko się zmieści. Nie zawsze daje to optymalne rozwiązanie dla wszystkich problemów plecakowych, ale w tym uproszczonym scenariuszu jest wystarczające."
   ]
  },
  {
   "cell_type": "markdown",
   "metadata": {},
   "source": [
    "## 5. Problem bakterii (reprezentacja binarna)\n",
    "\n",
    "Na koniec zajmiemy się najbardziej złożonym zadaniem, które wymaga zrozumienia reprezentacji binarnej liczb."
   ]
  },
  {
   "cell_type": "markdown",
   "metadata": {},
   "source": [
    "### Zadanie 5: Minimalna liczba bakterii\n",
    "\n",
    "**Polecenie:** Mamy kolonię bakterii z następującą właściwością: każdego dnia każda bakteria dzieli się na dwie. Naszym zadaniem jest znalezienie minimalnej liczby bakterii, które musimy mieć na początku, aby w n-tym dniu mieć dokładnie N bakterii."
   ]
  },
  {
   "cell_type": "code",
   "execution_count": null,
   "metadata": {},
   "outputs": [],
   "source": [
    "def minimalne_bakterie(N):\n",
    "    poczatkowe_bakterie = bin(N).count('1')  # Liczba jedynek w binarnej reprezentacji N\n",
    "    operacje = []  # Lista operacji: (dzień, ile dodano)\n",
    "\n",
    "    dzien = 0\n",
    "    aktualne_bakterie = 0\n",
    "    while N > 0:\n",
    "        if N % 2 == 1:  # Jeśli najmniej znaczący bit to 1\n",
    "            operacje.append((dzien, 1))  # Dodajemy bakterie w danym dniu\n",
    "            aktualne_bakterie += 1\n",
    "        N //= 2  # Przesuwamy bity w prawo (dzielimy przez 2)\n",
    "        dzien += 1  # Przechodzimy do następnego dnia\n",
    "\n",
    "    return poczatkowe_bakterie, operacje\n",
    "\n",
    "# Testujemy funkcję dla różnych wartości N\n",
    "for N in [10, 15, 42, 100]:\n",
    "    min_bakterie, operacje = minimalne_bakterie(N)\n",
    "    print(f\"\\nDla N = {N}:\")\n",
    "    print(f\"Minimalna liczba początkowych bakterii: {min_bakterie}\")\n",
    "    print(\"Harmonogram dodawania bakterii:\")\n",
    "    for dzien, ilosc in operacje:\n",
    "        print(f\"Dzień {dzien}: dodaj {ilosc} bakterii\")"
   ]
  },
  {
   "cell_type": "markdown",
   "metadata": {},
   "source": [
    "**Wyjaśnienie:**\n",
    "\n",
    "To zadanie wykorzystuje zależność między reprezentacją binarną liczby N a liczbą bakterii.\n",
    "\n",
    "- Kluczowa obserwacja: każda bakteria podwaja się codziennie, więc bakteria dodana w dniu 0 daje $2^n$ bakterii w dniu n\n",
    "- Możemy reprezentować N jako sumę potęg liczby 2: $N = \\sum 2^i$ dla pewnych wartości i\n",
    "- Te potęgi 2 odpowiadają pozycjom jedynek w binarnej reprezentacji N\n",
    "- Dlatego minimalna liczba początkowych bakterii jest równa liczbie jedynek w reprezentacji binarnej N\n",
    "\n",
    "Algorytm:\n",
    "1. Liczymy liczbę jedynek w binarnej reprezentacji N - to jest minimalna liczba bakterii, którą musimy dodać\n",
    "2. Iterujemy przez binarne cyfry N od prawej do lewej (od najmniej znaczącego bitu)\n",
    "3. Jeśli bit jest równy 1, dodajemy jedną bakterię w odpowiednim dniu\n",
    "4. Na końcu zwracamy liczbę początkowych bakterii i harmonogram ich dodawania\n",
    "\n",
    "**Przykład dla N = 10:**\n",
    "- Reprezentacja binarna: 1010 (od prawej: 0,1,0,1)\n",
    "- Jedynki na pozycjach: 1 i 3 (licząc od 0)\n",
    "- Zatem dodajemy jedną bakterię w dniu 1 i jedną w dniu 3\n",
    "- Łącznie potrzebujemy 2 bakterie\n",
    "\n",
    "Ten problem jest ciekawym zastosowaniem reprezentacji binarnej do modelowania wzrostu kolonii bakterii."
   ]
  },
  {
   "cell_type": "markdown",
   "metadata": {},
   "source": [
    "## Podsumowanie\n",
    "\n",
    "W tym notatniku omówiliśmy różne zadania programistyczne w Pythonie, od prostych operacji na tekście i liczbach, przez obliczenia geometryczne, aż po bardziej złożone problemy algorytmiczne:\n",
    "\n",
    "1. **Podstawowe operacje** - powtarzanie tekstu i sprawdzanie podzielności\n",
    "2. **Obliczenia geometryczne** - pole i objętość prostopadłościanu z walidacją danych\n",
    "3. **Problem Collatza** - implementacja klasycznego problemu matematycznego\n",
    "4. **Problem plecakowy** - optymalizacja pakowania prezentów (uproszczony problem plecakowy)\n",
    "5. **Problem bakterii** - wykorzystanie reprezentacji binarnej do modelowania wzrostu kolonii\n",
    "\n",
    "Każde zadanie było opatrzone kodem, wyjaśnieniem oraz przykładami, co pozwala lepiej zrozumieć koncepcje programistyczne i matematyczne stojące za rozwiązaniami.\n",
    "\n",
    "Zachęcamy do eksperymentowania z kodem, modyfikowania go i rozszerzania funkcjonalności, aby lepiej zrozumieć omawiane zagadnienia."
   ]
  }
 ],
 "metadata": {
  "kernelspec": {
   "display_name": "Python 3",
   "language": "python",
   "name": "python3"
  },
  "language_info": {
   "codemirror_mode": {
    "name": "ipython",
    "version": 3
   },
   "file_extension": ".py",
   "mimetype": "text/x-python",
   "name": "python",
   "nbconvert_exporter": "python",
   "pygments_lexer": "ipython3",
   "version": "3.13.0"
  }
 },
 "nbformat": 4,
 "nbformat_minor": 4
}
