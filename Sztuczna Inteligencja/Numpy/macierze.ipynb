{
 "cells": [
  {
   "cell_type": "markdown",
   "id": "6b71a961",
   "metadata": {},
   "source": [
    "## Macierze (Tablica dwuwymiarowa)\n",
    "- Tworzenie tablicy dwuwymiarowej\n",
    "- Wyświetlanie tablicy\n",
    "- Przypisywanie wartości dwuwimarow\n",
    "- Zamiana wielu wartości na raz w tabeli\n",
    "- Generowanie tablicy dwuwymiarowej z losowymi wartościami"
   ]
  },
  {
   "cell_type": "code",
   "execution_count": null,
   "id": "b4f4579b",
   "metadata": {},
   "outputs": [],
   "source": [
    "# Importowanie numpy\n",
    "import numpy as np"
   ]
  },
  {
   "cell_type": "code",
   "execution_count": null,
   "id": "a3c9d60a",
   "metadata": {},
   "outputs": [],
   "source": [
    "# Tworzenie tablicy dwuwymiarowej 5x4 wypełnionej zerami\n",
    "tab = np.zeros((5, 4))\n",
    "tab # Wyświetlenie tablicy\n",
    "\n",
    "tab[2][1] = 10 # Przypisanie wartości 10 do elementu wiersza 2, kolumny 1\n",
    "tab # Wyświetlenie tablicy"
   ]
  },
  {
   "cell_type": "code",
   "execution_count": null,
   "id": "007dc67a",
   "metadata": {},
   "outputs": [],
   "source": [
    "tab = np.ones((3, 4)) # Tworzenie tablicy 3x4 wypełnionej jedynkami\n",
    "tab # Wyświetlenie tablicy\n",
    "tab[2][1:3] = 5 # Przypisanie wartości 5 do elementów wiersza 2, kolumny 1 i 2\n",
    "tab # Wyświetlenie tablicy"
   ]
  },
  {
   "cell_type": "code",
   "execution_count": null,
   "id": "79c41ca9",
   "metadata": {},
   "outputs": [],
   "source": [
    "tab = np.random.randint(1, 10, (4, 8)) # Tworzenie tablicy 4x8 z losowymi liczbami całkowitymi z zakresu 1-9\n",
    "tab # Wyświetlenie tablicy"
   ]
  },
  {
   "cell_type": "markdown",
   "id": "975a137d",
   "metadata": {},
   "source": [
    "## Rachunek Macierzowy\n",
    "- Tworzenie dwóch macierzy 3x3 z losowymi wartościami\n",
    "- Wyświetlanie macierzy\n",
    "- Dodawanie i odejmowanie macierzy\n",
    "- Mnożenie macierzy przez skalar\n",
    "- Mnożenie macierzy (iloczyn macierzy)\n",
    "- Transpozycja macierzy (zamiana wierszy z kolumnami)"
   ]
  },
  {
   "cell_type": "code",
   "execution_count": null,
   "id": "17bae68e",
   "metadata": {},
   "outputs": [],
   "source": [
    "a = np.random.randint(0, 6, (3, 3)) # Tworzenie tablicy 3x3 z losowymi liczbami całkowitymi z zakresu 0-5\n",
    "b = np.random.randint(0, 6, (3, 3)) # Tworzenie drugiej tablicy 3x3 z losowymi liczbami całkowitymi z zakresu 0-5\n",
    "\n",
    "a # Wyświetlenie pierwszej tablicy"
   ]
  },
  {
   "cell_type": "code",
   "execution_count": null,
   "id": "dcf0175c",
   "metadata": {},
   "outputs": [],
   "source": [
    "b # Wyświetlenie drugiej tablicy"
   ]
  },
  {
   "cell_type": "code",
   "execution_count": null,
   "id": "bebe423a",
   "metadata": {},
   "outputs": [],
   "source": [
    "a + b # Dodawanie dwóch tablic element po elemencie"
   ]
  },
  {
   "cell_type": "code",
   "execution_count": null,
   "id": "978277cb",
   "metadata": {},
   "outputs": [],
   "source": [
    "a - b # Odejmowanie dwóch tablic element po elemencie"
   ]
  },
  {
   "cell_type": "code",
   "execution_count": null,
   "id": "95f3c561",
   "metadata": {},
   "outputs": [],
   "source": [
    "# Mnożenie skalarne\n",
    "a * 10 # Mnożenie tablicy przez skalar 10"
   ]
  },
  {
   "cell_type": "code",
   "execution_count": null,
   "id": "0fb2b052",
   "metadata": {},
   "outputs": [],
   "source": [
    "a = np.random.randint(0, 5, (3, 2)) # Tworzenie tablicy 3x2 z losowymi liczbami całkowitymi z zakresu 0-4\n",
    "b = np.random.randint(0, 5, (2, 4)) # Tworzenie drugiej tablicy 2x4 z losowymi liczbami całkowitymi z zakresu 0-4"
   ]
  },
  {
   "cell_type": "code",
   "execution_count": 14,
   "id": "9c51e973",
   "metadata": {},
   "outputs": [
    {
     "data": {
      "text/plain": [
       "array([[22, 12, 21],\n",
       "       [ 8, 16,  4],\n",
       "       [27, 30, 30]], dtype=int32)"
      ]
     },
     "execution_count": 14,
     "metadata": {},
     "output_type": "execute_result"
    }
   ],
   "source": [
    "# Mnożenie macierzy (https://www.matemaks.pl/mnozenie-macierzy.html)\n",
    "# Mnożenie macierzy nie jest przemiene!\n",
    "# By można było pomnożyć liczba kolumn w pierwszej macierzy musi być równa liczbie wierszy w drugiej macierzy\n",
    "wynik = np.matmul(a, b) # Mnożenie macierzy\n",
    "wynik = a @ b # Alternatywna metoda mnożenia macierzy\n",
    "wynik # Wyświetlenie wyniku mnożenia"
   ]
  },
  {
   "cell_type": "code",
   "execution_count": null,
   "id": "fae19d74",
   "metadata": {},
   "outputs": [],
   "source": [
    "# Transpozycja macierzy\n",
    "wynik.transpose() # Transpozycja macierzy (zamiana wierszy z kolumnami)"
   ]
  }
 ],
 "metadata": {
  "kernelspec": {
   "display_name": "Python 3",
   "language": "python",
   "name": "python3"
  },
  "language_info": {
   "codemirror_mode": {
    "name": "ipython",
    "version": 3
   },
   "file_extension": ".py",
   "mimetype": "text/x-python",
   "name": "python",
   "nbconvert_exporter": "python",
   "pygments_lexer": "ipython3",
   "version": "3.13.0"
  }
 },
 "nbformat": 4,
 "nbformat_minor": 5
}
