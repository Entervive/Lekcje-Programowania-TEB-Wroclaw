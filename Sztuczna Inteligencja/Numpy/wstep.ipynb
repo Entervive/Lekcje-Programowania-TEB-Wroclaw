{
 "cells": [
  {
   "cell_type": "markdown",
   "id": "20ac62b5",
   "metadata": {},
   "source": [
    "# Wstęp do Numpy\n",
    "- Importowanie numpy\n",
    "- Tworzenie tablicy, wyświetlanie danych, zmiana wartości, wyświetlanie kształtu\n",
    "- Tworzenie pustej tablicy wypełnionej zerami lub jedynkami o wcześniej zdefiniowanej wielkości\n",
    "- Generowanie tablicy z różnymi wartościami i konwertowanie jej do listy\n",
    "- Tworzenie tablicy z podziałem (arange)"
   ]
  },
  {
   "cell_type": "code",
   "execution_count": 1,
   "id": "1eb4da91",
   "metadata": {},
   "outputs": [],
   "source": [
    "#Importowanie biblioteki numpy\n",
    "import numpy as np #Alias numpy jako np"
   ]
  },
  {
   "cell_type": "code",
   "execution_count": 2,
   "id": "2b7bb90b",
   "metadata": {},
   "outputs": [
    {
     "data": {
      "text/plain": [
       "array([ 1,  2, 10,  4,  5])"
      ]
     },
     "execution_count": 2,
     "metadata": {},
     "output_type": "execute_result"
    }
   ],
   "source": [
    "#Używanie aliasu np w razie jego nie obecności używamy numpy.array\n",
    "tab = np.array([1, 2, 3, 4, 5]) #Tworzenie tablicy numpy\n",
    "tab[2] = 10 #Zmiana wartości na indeksie 2\n",
    "tab.shape #Wyświetlenie kształtu tablicy\n",
    "tab #Wyświetlenie tablicy"
   ]
  },
  {
   "cell_type": "code",
   "execution_count": null,
   "id": "e08ed29f",
   "metadata": {},
   "outputs": [],
   "source": [
    "tab = np.zeros((10,)) #Tworzenie tablicy numpy wypełnionej zerami\n",
    "tab #Wyświetlenie tablicy\n",
    "\n",
    "tab2 = np.ones((10,)) #Tworzenie tablicy numpy wypełnionej jedynkami\n",
    "tab2 #Wyświetlenie tablicy"
   ]
  },
  {
   "cell_type": "code",
   "execution_count": null,
   "id": "a688a387",
   "metadata": {},
   "outputs": [],
   "source": [
    "tab3 = np.random.randint(1, 10, (10,)) #Tworzenie tablicy numpy z losowymi liczbami całkowitymi z przedziału 1-10 o długości 10\n",
    "#randint(#min, #max, #shape czyli długość tablicy w tym wypadku 10)\n",
    "tab3 #Wyświetlenie tablicy\n",
    "tab3.tolist() #Konwersja tablicy numpy na listę Pythona"
   ]
  },
  {
   "cell_type": "code",
   "execution_count": 4,
   "id": "87716185",
   "metadata": {},
   "outputs": [
    {
     "data": {
      "text/plain": [
       "array([-3, -2, -1,  0,  1,  2,  3,  4])"
      ]
     },
     "execution_count": 4,
     "metadata": {},
     "output_type": "execute_result"
    }
   ],
   "source": [
    "tab4 = np.arange(5, 10, 2) #Tworzenie tablicy numpy z liczbami od 5 do 10 co 2\n",
    "tab4 #Wyświetlenie tablicy\n",
    "tab5 = np.arange(-3, 5)#Tworzenie tablicy numpy z liczbami od -3 do 5 co 1\n",
    "tab5 #Wyświetlenie tablicy"
   ]
  }
 ],
 "metadata": {
  "kernelspec": {
   "display_name": "Python 3",
   "language": "python",
   "name": "python3"
  },
  "language_info": {
   "codemirror_mode": {
    "name": "ipython",
    "version": 3
   },
   "file_extension": ".py",
   "mimetype": "text/x-python",
   "name": "python",
   "nbconvert_exporter": "python",
   "pygments_lexer": "ipython3",
   "version": "3.13.0"
  }
 },
 "nbformat": 4,
 "nbformat_minor": 5
}
