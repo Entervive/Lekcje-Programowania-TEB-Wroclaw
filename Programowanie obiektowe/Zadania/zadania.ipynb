{
    "cells": [
        {
            "cell_type": "markdown",
            "metadata": {
                "id": "cd267f4c",
                "language": "markdown"
            },
            "source": [
                "# Wprowadzenie do Programowania Obiektowego (OOP)\n",
                "Ten notatnik wprowadza podstawowe pojęcia programowania obiektowego (OOP) w języku Python. Zawiera udokumentowane przykłady klas, atrybutów i metod."
            ]
        },
        {
            "cell_type": "markdown",
            "id": "37f03231",
            "metadata": {},
            "source": [
                "# Wstęp zadanie z osobą\n",
                "Zadaniem było stworzenie klasy `Osoba` reprezentującą osobę. Zawiera atrybuty takie jak imię, nazwisko, wiek oraz opcjonalny parametr wskazujący, czy osoba jest uczniem TEB. Klasa demonstruje użycie wartości domyślnych parametrów."
            ]
        },
        {
            "cell_type": "code",
            "execution_count": null,
            "id": "4f7f32d0",
            "metadata": {
                "id": "d711b6b7",
                "language": "python"
            },
            "outputs": [],
            "source": [
                "# Definicja klasy Osoba\n",
                "class Osoba:\n",
                "    # Definicja atrybutów klasy #czy_uczen_teb jest domyślnie ustawiony na True\n",
                "    def __init__(self, imie, nazwisko, wiek, czy_uczen_teb=True):\n",
                "        # Inicjalizacja atrybutów obiektu\n",
                "        self.imie = imie\n",
                "        self.nazwisko = nazwisko\n",
                "        self.wiek = wiek\n",
                "        self.czy_uczen_teb = czy_uczen_teb\n",
                "\n",
                "# Przykład użycia\n",
                "uczen1 = Osoba(imie='Jan', nazwisko='Nowak', wiek=17)\n",
                "uczen2 = Osoba(imie='Ania', nazwisko='Kowalska', wiek=15, czy_uczen_teb=False)"
            ]
        },
        {
            "cell_type": "markdown",
            "id": "aedeec83",
            "metadata": {
                "id": "9f5377c7",
                "language": "markdown"
            },
            "source": [
                "# Zadanie: Pojazady Mechaniczne\n",
                "Zadaniem było utworzenie klasa `PojazadMechaniczny` reprezentuje pojazd mechaniczny. Zawiera atrybuty takie jak rodzaj pojazdu, liczba kół, rodzaj paliwa, masa, moc silnika oraz liczba miejsc siedzących. Klasa zawiera również metodę do wyświetlania szczegółów pojazdu."
            ]
        },
        {
            "cell_type": "code",
            "execution_count": null,
            "id": "468f4d27",
            "metadata": {
                "id": "536b7b57",
                "language": "python"
            },
            "outputs": [],
            "source": [
                "# Definicja klasy PojazadMechaniczny\n",
                "class PojazadMechaniczny:\n",
                "    # Inicjalizacja atrybutów obiektu\n",
                "    def __init__(self, rodzaj_pojazdu, ilosc_kol, rodzaj_paliwa, masa, moc_silnika, ilosc_miejsc_siedzacych):\n",
                "        # Inicjalizacja atrybutów obiektu\n",
                "        self.rodzaj_pojazdu = rodzaj_pojazdu\n",
                "        self.ilosc_kol = ilosc_kol\n",
                "        self.rodzaj_paliwa = rodzaj_paliwa\n",
                "        self.masa = masa\n",
                "        self.moc_silnika = moc_silnika\n",
                "        self.ilosc_miejsc_siedzacych = ilosc_miejsc_siedzacych\n",
                "    \n",
                "    # Metoda do wyświetlania szczegółów pojazdu\n",
                "    def auto(self):\n",
                "        # Wyświetlanie szczegółów pojazdu\n",
                "        print(f'Rodzaj pojazdu: {self.rodzaj_pojazdu}')\n",
                "        print(f'Ilość kół: {self.ilosc_kol}')\n",
                "        print(f'Rodzaj paliwa: {self.rodzaj_paliwa}')\n",
                "        print(f'Masa pojazdu: {self.masa}')\n",
                "        print(f'Moc silnika: {self.moc_silnika}')\n",
                "        print(f'Ilość miejsc siedzących: {self.ilosc_miejsc_siedzacych}')\n",
                "\n",
                "# Przykład użycia\n",
                "auto1 = PojazadMechaniczny('osobowy', 4, 'benzyna', 4200, 92, 5)\n",
                "auto2 = PojazadMechaniczny('ciężarowy', 3, 'dizel', 9500, 120, 3)\n",
                "\n",
                "# Wywołanie metody auto dla drugiego pojazdu\n",
                "auto2.auto()"
            ]
        },
        {
            "cell_type": "markdown",
            "id": "bc8fb9a9",
            "metadata": {
                "id": "dc37f8d3",
                "language": "markdown"
            },
            "source": [
                "# Zadanie z Samochodami\n",
                "Zadaniem było stworzenie klasy `Samochod` reprezentuje samochód. Zawiera atrybuty takie jak marka, model, cena oraz flaga wskazująca, czy samochód jest bezwypadkowy. Klasa zawiera również metodę do wyświetlania szczegółów samochodu."
            ]
        },
        {
            "cell_type": "code",
            "execution_count": null,
            "id": "e37552c0",
            "metadata": {
                "id": "b21647b4",
                "language": "python"
            },
            "outputs": [],
            "source": [
                "# Definicja klasy Samochod\n",
                "class Samochod:\n",
                "    def __init__(self, marka, model, cena, czybezwypadkowy=True):\n",
                "        # Inicjalizacja atrybutów obiektu\n",
                "        self.marka = marka\n",
                "        self.model = model\n",
                "        self.cena = cena\n",
                "        self.czybezwypadkowy = czybezwypadkowy\n",
                "\n",
                "    def auto_info(self):\n",
                "        # Wyświetlanie szczegółów samochodu\n",
                "        print(f'Marka: {self.marka}')\n",
                "        print(f'Model: {self.model}')\n",
                "        print(f'Cena: {self.cena}')\n",
                "        # Sprawdzenie stanu samochodu\n",
                "        if self.czybezwypadkowy:\n",
                "            print('Auto bezwypadkowe')\n",
                "        else:\n",
                "            print('Auto uszkodzone')\n",
                "\n",
                "# Przykład użycia\n",
                "auto1 = Samochod('Opel', 'Astra', 29000)\n",
                "auto2 = Samochod('Fiat', 'Tipo', 2500)\n",
                "\n",
                "# Wywołanie metody auto_info dla pierwszego samochodu\n",
                "auto1.auto_info()"
            ]
        },
        {
            "cell_type": "markdown",
            "metadata": {
                "id": "5331dd3f",
                "language": "markdown"
            },
            "source": [
                "# Zadanie z arkusza egzyminacyjnego INF04: film\n",
                "Klasa `film` reprezentuje film. Zawiera atrybuty takie jak tytuł oraz liczba wypożyczeń. Klasa oferuje metody do ustawiania i pobierania tytułu filmu."
            ]
        },
        {
            "cell_type": "code",
            "execution_count": null,
            "id": "da206b30",
            "metadata": {
                "id": "7bcf8ee3",
                "language": "python"
            },
            "outputs": [],
            "source": [
                "# Definicja klasy film\n",
                "class film:\n",
                "    # Inicjalizacja atrybutów klasy\n",
                "    def __init__(self, tytul=\"\", liczbaWypozyczen=0):\n",
                "        # Inicjalizacja atrybutów obiektu\n",
                "        self.tytul = tytul\n",
                "        self.liczbaWypozyczen = liczbaWypozyczen\n",
                "\n",
                "    # Metoda do ustawiania tytułu filmu\n",
                "    def setTytul(self, nowyTytul):\n",
                "        # Ustawianie nowego tytułu filmu\n",
                "        self.tytul = nowyTytul\n",
                "    \n",
                "    # Metoda do pobierania tytułu filmu\n",
                "    def getTytul(self):\n",
                "        # Pobieranie tytułu filmu\n",
                "        return self.tytul\n",
                "\n",
                "# Przykład użycia\n",
                "# Tworzenie pustego obiektu klasy film\n",
                "film1 = film()\n",
                "# Sprawdzanie tytułu i liczby wypożyczeń obiektu film1\n",
                "print(film1.tytul, film1.liczbaWypozyczen)\n",
                "# Ustawianie tytułu filmu w obikcie film1\n",
                "film1.setTytul(input(\"Podaj tytuł filmu: \"))\n",
                "# Ponowne sprawdzanie tytułu i liczby wypożyczeń obiektu film1\n",
                "print(film1.tytul, film1.liczbaWypozyczen)"
            ]
        }
    ],
    "metadata": {
        "language_info": {
            "name": "python"
        }
    },
    "nbformat": 4,
    "nbformat_minor": 5
}
