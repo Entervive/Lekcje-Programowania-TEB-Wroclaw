{
 "cells": [
  {
   "cell_type": "markdown",
   "id": "ffed3630",
   "metadata": {},
   "source": [
    "### Pole statyczne w Pythonie\n",
    "\n",
    "Pole statyczne (ang. *static field* lub *class variable*) w Pythonie to zmienna, która jest współdzielona przez wszystkie instancje danej klasy. Oznacza to, że każda instancja klasy ma dostęp do tej samej wartości pola statycznego, a zmiana jego wartości w jednej instancji będzie widoczna we wszystkich innych instancjach.\n",
    "\n",
    "Pola statyczne są definiowane wewnątrz klasy, ale poza metodami. Są one przypisane do samej klasy, a nie do konkretnej instancji. Aby uzyskać dostęp do pola statycznego, można użyć nazwy klasy lub instancji.\n",
    "\n",
    "#### Przykład:\n"
   ]
  },
  {
   "cell_type": "code",
   "execution_count": null,
   "id": "ed9a1d98",
   "metadata": {},
   "outputs": [],
   "source": [
    "class Zwierze: # Definicja klasy Zwierze\n",
    "    numerZwierzecia = 0 # Pole statyczne, tworzone poza konstruktorem\n",
    "\n",
    "    def __init__(self, waga, nazwa): # Inicjalizator klasy z parametrami waga i nazwa\n",
    "        self.waga = waga\n",
    "        self.nazwa = nazwa\n",
    "        Zwierze.numerZwierzecia += 1 # Inkrementacja pola statycznego dla klasy Zwierze\n",
    "        self.id = Zwierze.numerZwierzecia # Identyfikator zwierzęcia przypisany w momencie tworzenia obiektu\n",
    "        self.nazwaZoo = \"Wrocław\"\n",
    "\n",
    "z1 = Zwierze(20, \"chomik\")\n",
    "z2 = Zwierze(100, \"sowa\")\n",
    "print(z1.id) # Wyświetlenie identyfikatora chomika "
   ]
  },
  {
   "cell_type": "markdown",
   "id": "cff10acc",
   "metadata": {},
   "source": [
    "Na podstawie kodu i wyników, które można uzyskać z tego Jupyter Notebooka, można wyciągnąć następujące wnioski:\n",
    "\n",
    "1. **Pole statyczne jest współdzielone przez wszystkie instancje klasy**:\n",
    "    - Pole `numerZwierzecia` jest statyczne, co oznacza, że każda instancja klasy `Zwierze` ma dostęp do tej samej wartości tego pola.\n",
    "    - Zmiana wartości pola statycznego w jednej instancji (np. w konstruktorze) wpływa na jego wartość widoczną w innych instancjach oraz w samej klasie.\n",
    "\n",
    "2. **Tworzenie unikalnych identyfikatorów (`id`) dla instancji**:\n",
    "    - W konstruktorze klasy `Zwierze` pole statyczne `numerZwierzecia` jest inkrementowane przy każdej nowej instancji.\n",
    "    - Dzięki temu każda instancja otrzymuje unikalny identyfikator przypisany do pola `id`.\n",
    "\n",
    "3. **Dostęp do pola statycznego**:\n",
    "    - Pole statyczne można odczytywać zarówno przez nazwę klasy (`Zwierze.numerZwierzecia`), jak i przez instancje (`z1.numerZwierzecia`, `z2.numerZwierzecia`).\n",
    "    - Dostęp przez instancje jest możliwy, ale nie zmienia to faktu, że pole jest współdzielone.\n",
    "\n",
    "4. **Przykład działania pola statycznego**:\n",
    "    - Po utworzeniu dwóch instancji `z1` i `z2`, pole `numerZwierzecia` ma wartość `2`, co oznacza, że zostało zainkrementowane dwukrotnie.\n",
    "    - Identyfikatory `id` dla `z1` i `z2` wynoszą odpowiednio `1` i `2`, co pokazuje, że są one unikalne i przypisane w kolejności tworzenia instancji.\n",
    "\n",
    "5. **Przykład zastosowania pola statycznego**:\n",
    "    - Pole statyczne może być używane do śledzenia globalnego stanu klasy, np. liczby utworzonych obiektów.\n",
    "    - W tym przypadku `numerZwierzecia` pełni rolę licznika instancji klasy `Zwierze`.\n",
    "\n",
    "Podsumowując, kod ilustruje, jak pola statyczne mogą być używane do zarządzania wspólnymi danymi dla wszystkich instancji klasy oraz jak można je wykorzystać do generowania unikalnych identyfikatorów dla obiektów."
   ]
  }
 ],
 "metadata": {
  "kernelspec": {
   "display_name": "Python 3",
   "language": "python",
   "name": "python3"
  },
  "language_info": {
   "codemirror_mode": {
    "name": "ipython",
    "version": 3
   },
   "file_extension": ".py",
   "mimetype": "text/x-python",
   "name": "python",
   "nbconvert_exporter": "python",
   "pygments_lexer": "ipython3",
   "version": "3.13.0"
  }
 },
 "nbformat": 4,
 "nbformat_minor": 5
}
