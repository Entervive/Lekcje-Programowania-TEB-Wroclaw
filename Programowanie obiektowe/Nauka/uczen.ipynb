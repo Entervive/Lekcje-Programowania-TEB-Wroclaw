{
 "cells": [
  {
   "cell_type": "markdown",
   "metadata": {},
   "source": [
    "# Lekcja: Programowanie Obiektowe w Pythonie\n",
    "\n",
    "W tej lekcji poznaliśmy podstawy programowania obiektowego w Pythonie. Omówiliśmy, czym są klasy, obiekty, metody oraz jak je tworzyć i używać. Poniżej znajdują się przykłady kodu, które omawialiśmy na lekcji."
   ]
  },
  {
   "cell_type": "markdown",
   "metadata": {},
   "source": [
    "## Przykład 1: Klasa `Uczen` z metodą `przedstaw_sie`\n",
    "\n",
    "W tym przykładzie stworzyliśmy klasę `Uczen`, która reprezentuje ucznia. Klasa zawiera:\n",
    "- Konstruktor `__init__`, który inicjalizuje obiekt z imieniem, nazwiskiem i wiekiem.\n",
    "- Metodę `przedstaw_sie`, która wypisuje dane ucznia w czytelnej formie.\n",
    "\n",
    "Kod:"
   ]
  },
  {
   "cell_type": "code",
   "execution_count": null,
   "metadata": {},
   "outputs": [],
   "source": [
    "class Uczen:\n",
    "    # Specjalna funkcja inicjalizująca obiekt\n",
    "    def __init__(self, imie, nazwisko, wiek):\n",
    "        self.imie = imie\n",
    "        self.nazwisko = nazwisko\n",
    "        self.wiek = wiek\n",
    "\n",
    "    # Metoda do przedstawiania się\n",
    "    def przedstaw_sie(self):\n",
    "        print(f'Nazywam się {self.imie} {self.nazwisko} i mam {self.wiek} lat.')\n",
    "\n",
    "# Tworzenie obiektu klasy Uczen\n",
    "ucz1 = Uczen('Jan', 'Kowalski', 15)\n",
    "\n",
    "# Wyświetlenie imienia ucznia\n",
    "print(ucz1.imie)\n",
    "\n",
    "# Wywołanie metody przedstaw_sie\n",
    "ucz1.przedstaw_sie()"
   ]
  },
  {
   "cell_type": "markdown",
   "metadata": {},
   "source": [
    "### Wyjaśnienie:\n",
    "- Konstruktor `__init__` pozwala na przekazanie danych (imię, nazwisko, wiek) podczas tworzenia obiektu.\n",
    "- Metoda `przedstaw_sie` używa tych danych, aby wypisać informacje o uczniu.\n",
    "- Obiekt `ucz1` reprezentuje ucznia o imieniu Jan Kowalski, który ma 15 lat."
   ]
  },
  {
   "cell_type": "markdown",
   "metadata": {},
   "source": [
    "## Przykład 2: Klasa `Uczen` z dodatkowymi metodami\n",
    "\n",
    "W tym przykładzie rozszerzyliśmy klasę `Uczen` o dodatkowe metody:\n",
    "- `inna`: wypisuje komunikat i przedstawia ucznia.\n",
    "- `wprowadzanie`: pozwala na wprowadzenie danych ucznia z klawiatury.\n",
    "- `czy_pelnoletni`: sprawdza, czy uczeń jest pełnoletni (wiek >= 18).\n",
    "\n",
    "Kod:"
   ]
  },
  {
   "cell_type": "code",
   "execution_count": null,
   "metadata": {},
   "outputs": [],
   "source": [
    "class Uczen:\n",
    "    # Specjalna funkcja inicjalizująca obiekt\n",
    "    def __init__(self, imie=\"\", nazwisko=\"\", wiek=20):\n",
    "        self.imie = imie\n",
    "        self.nazwisko = nazwisko\n",
    "        self.wiek = wiek\n",
    "\n",
    "    # Metoda do przedstawiania się\n",
    "    def inna(self):\n",
    "        print('To jest metoda inna')\n",
    "        print(f'Nazywam się {self.imie} {self.nazwisko}.')\n",
    "\n",
    "    # Metoda do wprowadzania przez użytkownika danych i zastąpienia istniejących\n",
    "    def wprowadzanie(self):\n",
    "        self.imie = input('Podaj imię: ')\n",
    "        self.nazwisko = input('Podaj nazwisko: ')\n",
    "\n",
    "    # Metoda do sprawdzania pełnoletności\n",
    "    def czy_pelnoletni(self):\n",
    "        if self.wiek >= 18:\n",
    "            return True\n",
    "        else:\n",
    "            return False\n",
    "\n",
    "# Tworzenie obiektów klasy Uczen\n",
    "ucz1 = Uczen('Jan', 'Kowalski', 20)\n",
    "ucz2 = Uczen('Anna', 'Nowak', 21)\n",
    "ucz3 = Uczen('Piotr', 'Wiśniewski', 16)\n",
    "\n",
    "# Sprawdzenie, czy ucz1 jest pełnoletni\n",
    "if ucz1.czy_pelnoletni():\n",
    "    print(f'{ucz1.imie} jest pełnoletni.')\n",
    "\n",
    "# Wywołanie metody inna dla ucznia ucz1\n",
    "ucz1.inna()"
   ]
  },
  {
   "cell_type": "markdown",
   "metadata": {},
   "source": [
    "### Wyjaśnienie:\n",
    "- Metoda `inna` wypisuje komunikat i przedstawia ucznia.\n",
    "- Metoda `wprowadzanie` pozwala użytkownikowi wprowadzić dane ucznia z klawiatury.\n",
    "- Metoda `czy_pelnoletni` zwraca wartość `True`, jeśli wiek ucznia wynosi co najmniej 18 lat, w przeciwnym razie zwraca `False`.\n",
    "- W przykładzie sprawdziliśmy, czy uczeń `ucz1` jest pełnoletni, a następnie wywołaliśmy metodę `inna`."
   ]
  },
  {
   "cell_type": "markdown",
   "metadata": {},
   "source": [
    "## Podsumowanie\n",
    "W tej lekcji nauczyliśmy się:\n",
    "- Jak tworzyć klasy i obiekty w Pythonie.\n",
    "- Jak definiować metody w klasach.\n",
    "- Jak używać konstruktorów do inicjalizacji obiektów.\n",
    "- Jak dodawać funkcjonalności do klas poprzez dodatkowe metody.\n",
    "\n",
    "Zachęcam do samodzielnego eksperymentowania z kodem i tworzenia własnych klas!"
   ]
  }
 ],
 "metadata": {
  "kernelspec": {
   "display_name": "Python 3",
   "language": "python",
   "name": "python3"
  },
  "language_info": {
   "codemirror_mode": {
    "name": "ipython",
    "version": 3
   },
   "file_extension": ".py",
   "mimetype": "text/x-python",
   "name": "python",
   "nbconvert_exporter": "python",
   "pygments_lexer": "ipython3",
   "version": "3.13.0"
  }
 },
 "nbformat": 4,
 "nbformat_minor": 5
}
